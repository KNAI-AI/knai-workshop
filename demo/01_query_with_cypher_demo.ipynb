{
 "cells": [
  {
   "cell_type": "markdown",
   "id": "0151deab-ec4e-4738-b9b0-fec2424b2da3",
   "metadata": {},
   "source": [
    "# Querying Knowledge Graphs with Cypher"
   ]
  },
  {
   "cell_type": "markdown",
   "id": "74b00a43-df0b-4ead-8de6-2365e8a26f53",
   "metadata": {},
   "source": [
    "### Import packages and set up Neo4"
   ]
  },
  {
   "cell_type": "code",
   "execution_count": null,
   "id": "bc780563-88e7-4c75-92c7-eb34def44a9f",
   "metadata": {
    "height": 149
   },
   "outputs": [],
   "source": [
    "import os\n",
    "from dotenv import load_dotenv\n",
    "import pandas as pd\n",
    "\n",
    "from langchain_community.graphs import Neo4jGraph\n",
    "\n",
    "_ = load_dotenv()"
   ]
  },
  {
   "cell_type": "markdown",
   "id": "089b045d",
   "metadata": {},
   "source": [
    "### Setting Environment Variables"
   ]
  },
  {
   "cell_type": "code",
   "execution_count": null,
   "id": "186948fd-da5e-49d5-abf4-ad21aed3271f",
   "metadata": {
    "height": 98
   },
   "outputs": [],
   "source": [
    "os.environ[\"NEO4J_USERNAME\"] = os.getenv(\"NEO4J_USERNAME\")\n",
    "os.environ[\"NEO4J_PASSWORD\"] = os.getenv(\"NEO4J_PASSWORD\")\n",
    "os.environ[\"NEO4J_URI\"] = os.getenv(\"NEO4J_URI\")"
   ]
  },
  {
   "cell_type": "markdown",
   "id": "a057a4bf",
   "metadata": {},
   "source": [
    "### Loading the Dataset"
   ]
  },
  {
   "cell_type": "code",
   "execution_count": null,
   "id": "09d54c63",
   "metadata": {},
   "outputs": [],
   "source": [
    "df = pd.read_csv('../data/vgsales.csv')"
   ]
  },
  {
   "cell_type": "code",
   "execution_count": null,
   "id": "1f64075e",
   "metadata": {},
   "outputs": [],
   "source": [
    "df.shape"
   ]
  },
  {
   "cell_type": "code",
   "execution_count": null,
   "id": "69a4ba0f",
   "metadata": {},
   "outputs": [],
   "source": [
    "df.head()"
   ]
  },
  {
   "cell_type": "code",
   "execution_count": null,
   "id": "80d05d2e",
   "metadata": {},
   "outputs": [],
   "source": [
    "df.tail()"
   ]
  },
  {
   "cell_type": "code",
   "execution_count": null,
   "id": "2a48a1bd",
   "metadata": {},
   "outputs": [],
   "source": [
    "df['Rank'].nunique()"
   ]
  },
  {
   "cell_type": "markdown",
   "id": "26ac45a1",
   "metadata": {},
   "source": [
    "### Conversion of CSV to Neo4j"
   ]
  },
  {
   "cell_type": "markdown",
   "id": "7a8affe7-9424-47d4-97c7-0a675fc2398f",
   "metadata": {},
   "source": [
    "- Initialize a knowledge graph instance using LangChain's Neo4j integration"
   ]
  },
  {
   "cell_type": "code",
   "execution_count": null,
   "id": "a5c03340-9078-42b2-9e0a-2dc8495b818f",
   "metadata": {
    "height": 64
   },
   "outputs": [],
   "source": [
    "kg = Neo4jGraph()"
   ]
  },
  {
   "cell_type": "code",
   "execution_count": null,
   "id": "f3f27271",
   "metadata": {},
   "outputs": [],
   "source": [
    "vgsales_query = \"\"\"\n",
    "LOAD CSV WITH HEADERS FROM 'https://raw.githubusercontent.com/KNAI-AI/knai-workshop/main/data/vgsales.csv' AS row\n",
    "MERGE (g:Game {rank:toInteger(row.Rank)})\n",
    "SET g.name = row.Name,\n",
    "    g.platform = row.Platform,\n",
    "    g.year = toInteger(row.Year),\n",
    "    g.genre = row.Genre,\n",
    "    g.publisher = row.Publisher,\n",
    "    g.na_sales = toFloat(row.NA_Sales),\n",
    "    g.eu_sales = toFloat(row.EU_Sales),\n",
    "    g.jp_sales = toFloat(row.JP_Sales),\n",
    "    g.other_sales = toFloat(row.Other_Sales),\n",
    "    g.global_sales = toFloat(row.Global_Sales)\n",
    "\n",
    "MERGE (p:Platform {name:row.Platform})\n",
    "MERGE (g)-[:RELEASED_ON]->(p)\n",
    "\n",
    "MERGE (pub:Publisher {name:row.Publisher})\n",
    "MERGE (g)-[:PUBLISHED_BY]->(pub)\n",
    "\n",
    "MERGE (ge:Genre {name:row.Genre})\n",
    "MERGE (g)-[:BELONGS_TO_GENRE]->(ge)\n",
    "\"\"\"\n",
    "\n",
    "kg.query(vgsales_query)"
   ]
  },
  {
   "cell_type": "code",
   "execution_count": null,
   "id": "79937959",
   "metadata": {},
   "outputs": [],
   "source": [
    "kg.refresh_schema()\n",
    "print(kg.schema)"
   ]
  },
  {
   "cell_type": "markdown",
   "id": "a703052f-c74e-4933-8e62-7e3ec9b12986",
   "metadata": {},
   "source": [
    "### Querying the movie knowledge graph \n",
    "- Match all nodes in the graph"
   ]
  },
  {
   "cell_type": "code",
   "execution_count": null,
   "id": "b12cfece-6188-4fa4-8ba6-f0eff39c6546",
   "metadata": {
    "height": 81,
    "scrolled": true
   },
   "outputs": [],
   "source": [
    "cypher = \"\"\"\n",
    "  MATCH (n) \n",
    "  RETURN count(n)\n",
    "  \"\"\""
   ]
  },
  {
   "cell_type": "code",
   "execution_count": null,
   "id": "edef9911-c436-4159-ae6b-412557448b94",
   "metadata": {
    "height": 47,
    "scrolled": true
   },
   "outputs": [],
   "source": [
    "result = kg.query(cypher)\n",
    "result"
   ]
  },
  {
   "cell_type": "code",
   "execution_count": null,
   "id": "751a9532-114d-4f72-8956-da41aa7eae8d",
   "metadata": {
    "height": 81
   },
   "outputs": [],
   "source": [
    "cypher = \"\"\"\n",
    "  MATCH (n) \n",
    "  RETURN count(n) AS numberOfNodes\n",
    "  \"\"\""
   ]
  },
  {
   "cell_type": "code",
   "execution_count": null,
   "id": "4fd44fea-11ab-4828-b475-71bc450ee900",
   "metadata": {
    "height": 47
   },
   "outputs": [],
   "source": [
    "result = kg.query(cypher)\n",
    "result"
   ]
  },
  {
   "cell_type": "code",
   "execution_count": null,
   "id": "4ae04daa-bc4c-42ca-864a-79b3915a234e",
   "metadata": {
    "height": 30
   },
   "outputs": [],
   "source": [
    "print(f\"There are {result[0]['numberOfNodes']} nodes in this graph.\")"
   ]
  },
  {
   "cell_type": "markdown",
   "id": "ef33d57e-7f3a-4d66-b4d0-325973604906",
   "metadata": {},
   "source": [
    "- Match only the `Game` nodes by specifying the node label"
   ]
  },
  {
   "cell_type": "code",
   "execution_count": null,
   "id": "7ebd1092-e6d4-4112-aac9-ce2af1eaa737",
   "metadata": {
    "height": 98
   },
   "outputs": [],
   "source": [
    "cypher = \"\"\"\n",
    "  MATCH (n:Game) \n",
    "  RETURN count(n) AS numberOfGames\n",
    "  \"\"\"\n",
    "kg.query(cypher)"
   ]
  },
  {
   "cell_type": "markdown",
   "id": "78ca792e-831f-4f1a-b728-92928d41e9b6",
   "metadata": {},
   "source": [
    "- Change the variable name in the node pattern match for improved readability"
   ]
  },
  {
   "cell_type": "code",
   "execution_count": null,
   "id": "26b1ed1f-c780-4de8-8c96-5594bc8b63af",
   "metadata": {
    "height": 98
   },
   "outputs": [],
   "source": [
    "cypher = \"\"\"\n",
    "  MATCH (g:Game) \n",
    "  RETURN count(g) AS numberOfGames\n",
    "  \"\"\"\n",
    "kg.query(cypher)"
   ]
  },
  {
   "cell_type": "markdown",
   "id": "b0534a64-f4c0-4e22-a79d-cce5ef595aa3",
   "metadata": {},
   "source": [
    "- Match only the `Publisher` nodes"
   ]
  },
  {
   "cell_type": "code",
   "execution_count": null,
   "id": "5b7d6465-19a7-4f0c-b2a3-f32fd5991c46",
   "metadata": {
    "height": 98,
    "scrolled": true
   },
   "outputs": [],
   "source": [
    "cypher = \"\"\"\n",
    "  MATCH (publisher:Publisher) \n",
    "  RETURN count(publisher) AS numberOfPublishers\n",
    "  \"\"\"\n",
    "kg.query(cypher)"
   ]
  },
  {
   "cell_type": "markdown",
   "id": "209a950f-3335-4a47-801c-53a821529cc7",
   "metadata": {},
   "source": [
    "- Match a single publisher by specifying the value of the `name` property on the `Publisher` node"
   ]
  },
  {
   "cell_type": "code",
   "execution_count": null,
   "id": "1c1f5e93-39dc-4585-ba3a-2cd492cbf665",
   "metadata": {
    "height": 98
   },
   "outputs": [],
   "source": [
    "cypher = \"\"\"\n",
    "  MATCH (nintendo:Publisher {name:\"Nintendo\"}) \n",
    "  RETURN nintendo\n",
    "  \"\"\"\n",
    "kg.query(cypher)"
   ]
  },
  {
   "cell_type": "markdown",
   "id": "3f6debaf-f237-4b75-b18c-5ff56ccca780",
   "metadata": {},
   "source": [
    "- Return only the `global_sales` property of the matched `Game` node"
   ]
  },
  {
   "cell_type": "code",
   "execution_count": null,
   "id": "2c9d8fc2-4fc7-4e85-8ced-e3f0236e6b2f",
   "metadata": {
    "height": 98
   },
   "outputs": [],
   "source": [
    "cypher = \"\"\"\n",
    "  MATCH (gta:Game {name:\"Grand Theft Auto: San Andreas\"}) \n",
    "  RETURN gta.global_sales\n",
    "  \"\"\"\n",
    "kg.query(cypher)"
   ]
  },
  {
   "cell_type": "markdown",
   "id": "00e73a39-882c-4060-926e-deb484a4358f",
   "metadata": {},
   "source": [
    "- Return two properties"
   ]
  },
  {
   "cell_type": "code",
   "execution_count": null,
   "id": "64ad1276-c1cc-49d6-b7e9-d7126a37fabc",
   "metadata": {
    "height": 98
   },
   "outputs": [],
   "source": [
    "cypher = \"\"\"\n",
    "  MATCH (marioBros:Game {name:\"New Super Mario Bros.\"}) \n",
    "  RETURN marioBros.global_sales, marioBros.publisher\n",
    "  \"\"\"\n",
    "kg.query(cypher)"
   ]
  },
  {
   "cell_type": "markdown",
   "id": "689be729-367a-408b-b4e5-43d2a3d69744",
   "metadata": {},
   "source": [
    "### Cypher patterns with conditional matching"
   ]
  },
  {
   "cell_type": "code",
   "execution_count": null,
   "id": "fc7b4d4d-764e-4b83-ae7c-0f7717de85f2",
   "metadata": {
    "height": 132
   },
   "outputs": [],
   "source": [
    "cypher = \"\"\"\n",
    "  MATCH (nineties:Game) \n",
    "  WHERE nineties.year >= 1990 \n",
    "    AND nineties.year < 2000 \n",
    "  RETURN nineties.name\n",
    "  \"\"\"\n"
   ]
  },
  {
   "cell_type": "code",
   "execution_count": null,
   "id": "c52524e8-c4b2-443a-9e4b-01c50f0be352",
   "metadata": {
    "height": 30
   },
   "outputs": [],
   "source": [
    "kg.query(cypher)"
   ]
  },
  {
   "cell_type": "markdown",
   "id": "d176b9d2-ec33-423a-b3de-e9bc87810fe7",
   "metadata": {},
   "source": [
    "### Pattern matching with multiple nodes"
   ]
  },
  {
   "cell_type": "code",
   "execution_count": null,
   "id": "dd8ae45b-c131-4e39-a937-704855cbdd74",
   "metadata": {
    "height": 98
   },
   "outputs": [],
   "source": [
    "cypher = \"\"\"\n",
    "  MATCH (game:Game)-[:BELONGS_TO_GENRE]->(genre:Genre) \n",
    "  RETURN game.name, genre.name LIMIT 10\n",
    "  \"\"\"\n",
    "kg.query(cypher)"
   ]
  },
  {
   "cell_type": "code",
   "execution_count": null,
   "id": "004147cc-14f4-43eb-86ff-d22e11a1d0d2",
   "metadata": {
    "height": 98
   },
   "outputs": [],
   "source": [
    "cypher = \"\"\"\n",
    "  MATCH (game:Game {name:\"New Super Mario Bros.\"})-[:PUBLISHED_BY]->(m)<-[:PUBLISHED_BY]-(otherGames) \n",
    "  RETURN otherGames.name, otherGames.global_sales\n",
    "  \"\"\"\n",
    "kg.query(cypher)"
   ]
  },
  {
   "cell_type": "markdown",
   "id": "2ad3f683-d334-4c4e-b274-9789a70b9662",
   "metadata": {},
   "source": [
    "### Delete data from the graph"
   ]
  },
  {
   "cell_type": "markdown",
   "id": "a5850550",
   "metadata": {},
   "source": [
    "Before"
   ]
  },
  {
   "cell_type": "code",
   "execution_count": null,
   "id": "5064cab8-b5d6-4f1c-b5ef-f154f5c10b2b",
   "metadata": {
    "height": 98
   },
   "outputs": [],
   "source": [
    "cypher = \"\"\"\n",
    "MATCH (game:Game {name:\"Nintendogs\"})-[published_by:PUBLISHED_BY]->(publisher:Publisher)\n",
    "RETURN game.name, publisher.name\n",
    "\"\"\"\n",
    "kg.query(cypher)"
   ]
  },
  {
   "cell_type": "markdown",
   "id": "5757340d",
   "metadata": {},
   "source": [
    "Deleting Data"
   ]
  },
  {
   "cell_type": "markdown",
   "id": "521bb16f",
   "metadata": {},
   "source": [
    "We need to delete relationship first then only we can delete node."
   ]
  },
  {
   "cell_type": "code",
   "execution_count": null,
   "id": "648d12d1-0966-46ff-ad77-080eae553c3a",
   "metadata": {
    "height": 98
   },
   "outputs": [],
   "source": [
    "cypher = \"\"\"\n",
    "MATCH (game:Game {name:\"Nintendogs\"})-[published_by:PUBLISHED_BY]->(publisher:Publisher)\n",
    "DELETE published_by\n",
    "\"\"\"\n",
    "kg.query(cypher)"
   ]
  },
  {
   "cell_type": "markdown",
   "id": "1c7d502e",
   "metadata": {},
   "source": [
    "After"
   ]
  },
  {
   "cell_type": "code",
   "execution_count": null,
   "id": "cb417dd1",
   "metadata": {},
   "outputs": [],
   "source": [
    "cypher = \"\"\"\n",
    "MATCH (game:Game {name:\"Nintendogs\"})-[published_by:PUBLISHED_BY]->(publisher:Publisher)\n",
    "RETURN game.name, publisher.name\n",
    "\"\"\"\n",
    "kg.query(cypher)"
   ]
  }
 ],
 "metadata": {
  "kernelspec": {
   "display_name": "Python 3 (ipykernel)",
   "language": "python",
   "name": "python3"
  },
  "language_info": {
   "codemirror_mode": {
    "name": "ipython",
    "version": 3
   },
   "file_extension": ".py",
   "mimetype": "text/x-python",
   "name": "python",
   "nbconvert_exporter": "python",
   "pygments_lexer": "ipython3",
   "version": "3.11.9"
  }
 },
 "nbformat": 4,
 "nbformat_minor": 5
}
