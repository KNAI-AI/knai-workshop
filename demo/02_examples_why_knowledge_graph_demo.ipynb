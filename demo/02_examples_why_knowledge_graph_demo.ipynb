{
 "cells": [
  {
   "cell_type": "markdown",
   "id": "0151deab-ec4e-4738-b9b0-fec2424b2da3",
   "metadata": {},
   "source": [
    "# Querying Knowledge Graphs with Cypher"
   ]
  },
  {
   "cell_type": "markdown",
   "id": "74b00a43-df0b-4ead-8de6-2365e8a26f53",
   "metadata": {},
   "source": [
    "### Import packages and set up Neo4"
   ]
  },
  {
   "cell_type": "code",
   "execution_count": null,
   "id": "bc780563-88e7-4c75-92c7-eb34def44a9f",
   "metadata": {
    "height": 149
   },
   "outputs": [],
   "source": [
    "import os\n",
    "from dotenv import load_dotenv\n",
    "import pandas as pd\n",
    "\n",
    "from langchain_community.graphs import Neo4jGraph\n",
    "\n",
    "_ = load_dotenv()"
   ]
  },
  {
   "cell_type": "markdown",
   "id": "089b045d",
   "metadata": {},
   "source": [
    "### Setting Environment Variables"
   ]
  },
  {
   "cell_type": "code",
   "execution_count": null,
   "id": "186948fd-da5e-49d5-abf4-ad21aed3271f",
   "metadata": {
    "height": 98
   },
   "outputs": [],
   "source": [
    "os.environ[\"NEO4J_USERNAME\"] = os.getenv(\"NEO4J_USERNAME\")\n",
    "os.environ[\"NEO4J_PASSWORD\"] = os.getenv(\"NEO4J_PASSWORD\")\n",
    "os.environ[\"NEO4J_URI\"] = os.getenv(\"NEO4J_URI\")"
   ]
  },
  {
   "cell_type": "code",
   "execution_count": null,
   "id": "a5c03340-9078-42b2-9e0a-2dc8495b818f",
   "metadata": {
    "height": 64
   },
   "outputs": [],
   "source": [
    "kg = Neo4jGraph()"
   ]
  },
  {
   "cell_type": "code",
   "execution_count": null,
   "id": "79937959",
   "metadata": {},
   "outputs": [],
   "source": [
    "kg.refresh_schema()\n",
    "print(kg.schema)"
   ]
  },
  {
   "cell_type": "markdown",
   "id": "963301f2",
   "metadata": {},
   "source": [
    "### Examples to show why Knowledge Graphs"
   ]
  },
  {
   "cell_type": "markdown",
   "id": "20b3b2c8",
   "metadata": {},
   "source": [
    "**Example of Schema Flexibility**"
   ]
  },
  {
   "cell_type": "markdown",
   "id": "d07a498c",
   "metadata": {},
   "source": [
    "Before"
   ]
  },
  {
   "cell_type": "code",
   "execution_count": null,
   "id": "8bb417ae",
   "metadata": {},
   "outputs": [],
   "source": [
    "cypher = \"\"\"\n",
    "MATCH (game:Game {name:\"Hades\"})\n",
    "RETURN game\n",
    "\"\"\"\n",
    "\n",
    "kg.query(cypher)"
   ]
  },
  {
   "cell_type": "code",
   "execution_count": null,
   "id": "ed1665da-b9ec-4b81-9e1f-de19af49d0d8",
   "metadata": {
    "height": 115
   },
   "outputs": [],
   "source": [
    "cypher = \"\"\"\n",
    "CREATE (game:Game {name:\"Hades\"})\n",
    "RETURN game\n",
    "\"\"\"\n",
    "\n",
    "kg.query(cypher)"
   ]
  },
  {
   "cell_type": "markdown",
   "id": "2b4edad2",
   "metadata": {},
   "source": [
    "After"
   ]
  },
  {
   "cell_type": "code",
   "execution_count": null,
   "id": "6f01f1d4",
   "metadata": {},
   "outputs": [],
   "source": [
    "cypher = \"\"\"\n",
    "MATCH (game:Game {name:\"Hades\"})\n",
    "RETURN game\n",
    "\"\"\"\n",
    "\n",
    "kg.query(cypher)"
   ]
  },
  {
   "cell_type": "markdown",
   "id": "fd903323",
   "metadata": {},
   "source": [
    "Before giving it new properties, we will formulate relationship."
   ]
  },
  {
   "cell_type": "code",
   "execution_count": null,
   "id": "1a0b9bb9-4491-45e2-9a4d-2306ea0a2bd8",
   "metadata": {
    "height": 115
   },
   "outputs": [],
   "source": [
    "cypher = \"\"\"\n",
    "MATCH (hades:Game {name:\"Hades\"}), (rolePlaying:Genre {name:\"Role-Playing\"})\n",
    "MERGE (hades)-[hasRelationship:BELONGS_TO_GENRE]->(rolePlaying)\n",
    "RETURN hades, hasRelationship, rolePlaying\n",
    "\"\"\"\n",
    "kg.query(cypher)"
   ]
  },
  {
   "cell_type": "code",
   "execution_count": null,
   "id": "c81eab39",
   "metadata": {},
   "outputs": [],
   "source": [
    "cypher = \"\"\"\n",
    "MATCH (n:Game {name:\"Hades\"})\n",
    "SET n.release_year = 2020,\n",
    "    n.genre = \"Role-Playing\",\n",
    "    n.developer = \"Supergiant Games\"\n",
    "\"\"\"\n",
    "kg.query(cypher)"
   ]
  },
  {
   "cell_type": "markdown",
   "id": "c5176e25",
   "metadata": {},
   "source": [
    "**Example of Query Simplicity and Readability**"
   ]
  },
  {
   "cell_type": "markdown",
   "id": "652aa57f",
   "metadata": {},
   "source": [
    "Graph Example"
   ]
  },
  {
   "cell_type": "code",
   "execution_count": null,
   "id": "72992825",
   "metadata": {},
   "outputs": [],
   "source": [
    "cypher = \"\"\"\n",
    "MATCH (g:Game)-[:BELONGS_TO_GENRE]->(genre:Genre), \n",
    "      (g)-[:PUBLISHED_BY]->(publisher:Publisher)\n",
    "WHERE publisher.name = 'Nintendo'\n",
    "RETURN genre.name, SUM(g.global_sales) AS TotalSales\n",
    "ORDER BY TotalSales DESC\n",
    "\"\"\"\n",
    "kg.query(cypher)"
   ]
  },
  {
   "cell_type": "markdown",
   "id": "e32589e8",
   "metadata": {},
   "source": [
    "SQL Example"
   ]
  },
  {
   "cell_type": "code",
   "execution_count": null,
   "id": "dc9cd1b2",
   "metadata": {},
   "outputs": [],
   "source": [
    "\"\"\"SELECT genre.name, SUM(g.global_sales) AS TotalSales\n",
    "FROM games g\n",
    "JOIN genres genre ON g.genre_id = genre.id\n",
    "JOIN publishers publisher ON g.publisher_id = publisher.id\n",
    "WHERE publisher.name = 'Nintendo'\n",
    "GROUP BY genre.name\n",
    "ORDER BY TotalSales DESC;\"\"\""
   ]
  },
  {
   "cell_type": "markdown",
   "id": "8c7d8fba",
   "metadata": {},
   "source": [
    "Display relationship between all nodes"
   ]
  },
  {
   "cell_type": "code",
   "execution_count": null,
   "id": "231473e6",
   "metadata": {},
   "outputs": [],
   "source": [
    "# MATCH p=()-[]->() RETURN p; Run in cypher shell"
   ]
  },
  {
   "cell_type": "markdown",
   "id": "760ad7ad",
   "metadata": {},
   "source": [
    "Delete all the nodes"
   ]
  },
  {
   "cell_type": "code",
   "execution_count": null,
   "id": "0b84740b",
   "metadata": {},
   "outputs": [],
   "source": [
    "# MATCH (n)\n",
    "# DETACH DELETE n"
   ]
  }
 ],
 "metadata": {
  "kernelspec": {
   "display_name": "Python 3 (ipykernel)",
   "language": "python",
   "name": "python3"
  },
  "language_info": {
   "codemirror_mode": {
    "name": "ipython",
    "version": 3
   },
   "file_extension": ".py",
   "mimetype": "text/x-python",
   "name": "python",
   "nbconvert_exporter": "python",
   "pygments_lexer": "ipython3",
   "version": "3.11.9"
  }
 },
 "nbformat": 4,
 "nbformat_minor": 5
}
