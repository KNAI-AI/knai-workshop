{
 "cells": [
  {
   "cell_type": "markdown",
   "metadata": {},
   "source": [
    "### Importing Necessary Libraries"
   ]
  },
  {
   "cell_type": "code",
   "execution_count": 1,
   "metadata": {},
   "outputs": [],
   "source": [
    "import os\n",
    "from dotenv import load_dotenv\n",
    "\n",
    "from langchain_openai import ChatOpenAI\n",
    "from langchain.chains import GraphCypherQAChain\n",
    "from langchain_community.graphs import Neo4jGraph\n",
    "from langchain_community.chat_models import ChatOllama\n",
    "\n",
    "_ = load_dotenv()"
   ]
  },
  {
   "cell_type": "markdown",
   "metadata": {},
   "source": [
    "### Setting Environment Variables"
   ]
  },
  {
   "cell_type": "code",
   "execution_count": 2,
   "metadata": {},
   "outputs": [],
   "source": [
    "os.environ[\"NEO4J_USERNAME\"] = os.getenv(\"NEO4J_USERNAME\")\n",
    "os.environ[\"NEO4J_PASSWORD\"] = os.getenv(\"NEO4J_PASSWORD\")\n",
    "os.environ[\"NEO4J_URI\"] = os.getenv(\"NEO4J_URI\")"
   ]
  },
  {
   "cell_type": "markdown",
   "metadata": {},
   "source": [
    "### Initializing GraphCypherQAChain"
   ]
  },
  {
   "cell_type": "code",
   "execution_count": 3,
   "metadata": {},
   "outputs": [],
   "source": [
    "graph = Neo4jGraph()\n",
    "cypher_llm = ChatOpenAI(model=\"gpt-4-turbo\")\n",
    "qa_llm = ChatOpenAI(model=\"gpt-4-turbo\")\n",
    "chain = GraphCypherQAChain.from_llm(graph=graph, llm=cypher_llm, verbose=True, validate_cypher=True)"
   ]
  },
  {
   "cell_type": "markdown",
   "metadata": {},
   "source": [
    "### Example Queries"
   ]
  },
  {
   "cell_type": "code",
   "execution_count": 4,
   "metadata": {},
   "outputs": [
    {
     "name": "stdout",
     "output_type": "stream",
     "text": [
      "\n",
      "\n",
      "\u001b[1m> Entering new GraphCypherQAChain chain...\u001b[0m\n",
      "Generated Cypher:\n",
      "\u001b[32;1m\u001b[1;3mcypher\n",
      "MATCH (g1:Game)-[:PUBLISHED_BY]->(p:Publisher)<-[:PUBLISHED_BY]-(g2:Game)\n",
      "WHERE g1.year = 2003 AND g2.year = 2003 AND g1.name <> g2.name\n",
      "RETURN g1.name AS Game1, g2.name AS Game2, p.name AS Publisher\n",
      "\u001b[0m\n",
      "Full Context:\n",
      "\u001b[32;1m\u001b[1;3m[{'Game1': 'Super Mario Bros. 3', 'Game2': 'Mario Kart: Double Dash!!', 'Publisher': 'Nintendo'}, {'Game1': 'Pokémon Colosseum', 'Game2': 'Mario Kart: Double Dash!!', 'Publisher': 'Nintendo'}, {'Game1': 'Mario & Luigi: Superstar Saga', 'Game2': 'Mario Kart: Double Dash!!', 'Publisher': 'Nintendo'}, {'Game1': 'Mario Party 5', 'Game2': 'Mario Kart: Double Dash!!', 'Publisher': 'Nintendo'}, {'Game1': 'Donkey Kong Country', 'Game2': 'Mario Kart: Double Dash!!', 'Publisher': 'Nintendo'}, {'Game1': 'Kirby Air Ride', 'Game2': 'Mario Kart: Double Dash!!', 'Publisher': 'Nintendo'}, {'Game1': 'Pokemon Pinball: Ruby & Sapphire', 'Game2': 'Mario Kart: Double Dash!!', 'Publisher': 'Nintendo'}, {'Game1': 'Mario Golf: Toadstool Tour', 'Game2': 'Mario Kart: Double Dash!!', 'Publisher': 'Nintendo'}, {'Game1': 'Final Fantasy: Crystal Chronicles', 'Game2': 'Mario Kart: Double Dash!!', 'Publisher': 'Nintendo'}, {'Game1': 'WarioWare, Inc.: Mega MicroGame$', 'Game2': 'Mario Kart: Double Dash!!', 'Publisher': 'Nintendo'}]\u001b[0m\n",
      "\n",
      "\u001b[1m> Finished chain.\u001b[0m\n"
     ]
    },
    {
     "data": {
      "text/plain": [
       "{'query': 'Which games have same publisher in the year 2003?',\n",
       " 'result': 'In the year 2003, the games that had the same publisher, Nintendo, include Super Mario Bros. 3, Pokémon Colosseum, Mario & Luigi: Superstar Saga, Mario Party 5, Donkey Kong Country, Kirby Air Ride, Pokemon Pinball: Ruby & Sapphire, Mario Golf: Toadstool Tour, Final Fantasy: Crystal Chronicles, and WarioWare, Inc.: Mega MicroGame$. Additionally, all these games were published along with Mario Kart: Double Dash!!.'}"
      ]
     },
     "execution_count": 4,
     "metadata": {},
     "output_type": "execute_result"
    }
   ],
   "source": [
    "response = chain.invoke({\"query\": \"Which games have same publisher in the year 2003?\"})\n",
    "response"
   ]
  },
  {
   "cell_type": "code",
   "execution_count": 5,
   "metadata": {},
   "outputs": [
    {
     "name": "stdout",
     "output_type": "stream",
     "text": [
      "The games that have the same publisher, Nintendo, in the year 2003 include Super Mario Bros. 3, Pokémon Colosseum, Mario & Luigi: Superstar Saga, Mario Party 5, Donkey Kong Country, Kirby Air Ride, Pokemon Pinball: Ruby & Sapphire, Mario Golf: Toadstool Tour, Final Fantasy: Crystal Chronicles, and WarioWare, Inc.: Mega MicroGame$.\n"
     ]
    }
   ],
   "source": [
    "print(response['result'])"
   ]
  },
  {
   "cell_type": "code",
   "execution_count": 6,
   "metadata": {},
   "outputs": [
    {
     "name": "stdout",
     "output_type": "stream",
     "text": [
      "\n",
      "\n",
      "\u001b[1m> Entering new GraphCypherQAChain chain...\u001b[0m\n",
      "Generated Cypher:\n",
      "\u001b[32;1m\u001b[1;3mcypher\n",
      "MATCH (g1:Game)-[:PUBLISHED_BY]->(p:Publisher)<-[:PUBLISHED_BY]-(g2:Game)\n",
      "WHERE g1.year = 2003 AND g2.year = 2003 AND g1 <> g2\n",
      "RETURN g1.name AS Game1, g2.name AS Game2, p.name AS Publisher, g1.global_sales + g2.global_sales AS TotalGlobalSales\n",
      "\u001b[0m\n",
      "Full Context:\n",
      "\u001b[32;1m\u001b[1;3m[{'Game1': 'Super Mario Bros. 3', 'Game2': 'Mario Kart: Double Dash!!', 'Publisher': 'Nintendo', 'TotalGlobalSales': 12.15}, {'Game1': 'Pokémon Colosseum', 'Game2': 'Mario Kart: Double Dash!!', 'Publisher': 'Nintendo', 'TotalGlobalSales': 9.49}, {'Game1': 'Mario & Luigi: Superstar Saga', 'Game2': 'Mario Kart: Double Dash!!', 'Publisher': 'Nintendo', 'TotalGlobalSales': 9.120000000000001}, {'Game1': 'Mario Party 5', 'Game2': 'Mario Kart: Double Dash!!', 'Publisher': 'Nintendo', 'TotalGlobalSales': 9.030000000000001}, {'Game1': 'Donkey Kong Country', 'Game2': 'Mario Kart: Double Dash!!', 'Publisher': 'Nintendo', 'TotalGlobalSales': 8.99}, {'Game1': 'Kirby Air Ride', 'Game2': 'Mario Kart: Double Dash!!', 'Publisher': 'Nintendo', 'TotalGlobalSales': 8.57}, {'Game1': 'Pokemon Pinball: Ruby & Sapphire', 'Game2': 'Mario Kart: Double Dash!!', 'Publisher': 'Nintendo', 'TotalGlobalSales': 8.51}, {'Game1': 'Mario Golf: Toadstool Tour', 'Game2': 'Mario Kart: Double Dash!!', 'Publisher': 'Nintendo', 'TotalGlobalSales': 8.48}, {'Game1': 'Final Fantasy: Crystal Chronicles', 'Game2': 'Mario Kart: Double Dash!!', 'Publisher': 'Nintendo', 'TotalGlobalSales': 8.44}, {'Game1': 'WarioWare, Inc.: Mega MicroGame$', 'Game2': 'Mario Kart: Double Dash!!', 'Publisher': 'Nintendo', 'TotalGlobalSales': 8.18}]\u001b[0m\n",
      "\n",
      "\u001b[1m> Finished chain.\u001b[0m\n"
     ]
    },
    {
     "data": {
      "text/plain": [
       "{'query': 'Find pairs of games published by the same publisher in the year 2003 and their total combined global sales.',\n",
       " 'result': 'The pairs of games published by Nintendo in the year 2003 along with their total combined global sales are as follows:\\n- \"Super Mario Bros. 3\" and \"Mario Kart: Double Dash!!\" with total global sales of 12.15 million.\\n- \"Pokémon Colosseum\" and \"Mario Kart: Double Dash!!\" with total global sales of 9.49 million.\\n- \"Mario & Luigi: Superstar Saga\" and \"Mario Kart: Double Dash!!\" with total global sales of 9.12 million.\\n- \"Mario Party 5\" and \"Mario Kart: Double Dash!!\" with total global sales of 9.03 million.\\n- \"Donkey Kong Country\" and \"Mario Kart: Double Dash!!\" with total global sales of 8.99 million.\\n- \"Kirby Air Ride\" and \"Mario Kart: Double Dash!!\" with total global sales of 8.57 million.\\n- \"Pokemon Pinball: Ruby & Sapphire\" and \"Mario Kart: Double Dash!!\" with total global sales of 8.51 million.\\n- \"Mario Golf: Toadstool Tour\" and \"Mario Kart: Double Dash!!\" with total global sales of 8.48 million.\\n- \"Final Fantasy: Crystal Chronicles\" and \"Mario Kart: Double Dash!!\" with total global sales of 8.44 million.\\n- \"WarioWare, Inc.: Mega MicroGame$\" and \"Mario Kart: Double Dash!!\" with total global sales of 8.18 million.'}"
      ]
     },
     "execution_count": 6,
     "metadata": {},
     "output_type": "execute_result"
    }
   ],
   "source": [
    "response = chain.invoke({\"query\": \"Find pairs of games published by the same publisher in the year 2003 and their total combined global sales.\"})\n",
    "response"
   ]
  },
  {
   "cell_type": "code",
   "execution_count": 7,
   "metadata": {},
   "outputs": [
    {
     "name": "stdout",
     "output_type": "stream",
     "text": [
      "The pairs of games published by Nintendo in the year 2003 along with their total combined global sales are as follows:\n",
      "- \"Super Mario Bros. 3\" and \"Mario Kart: Double Dash!!\" with total global sales of 12.15 million.\n",
      "- \"Pokémon Colosseum\" and \"Mario Kart: Double Dash!!\" with total global sales of 9.49 million.\n",
      "- \"Mario & Luigi: Superstar Saga\" and \"Mario Kart: Double Dash!!\" with total global sales of 9.12 million.\n",
      "- \"Mario Party 5\" and \"Mario Kart: Double Dash!!\" with total global sales of 9.03 million.\n",
      "- \"Donkey Kong Country\" and \"Mario Kart: Double Dash!!\" with total global sales of 8.99 million.\n",
      "- \"Kirby Air Ride\" and \"Mario Kart: Double Dash!!\" with total global sales of 8.57 million.\n",
      "- \"Pokemon Pinball: Ruby & Sapphire\" and \"Mario Kart: Double Dash!!\" with total global sales of 8.51 million.\n",
      "- \"Mario Golf: Toadstool Tour\" and \"Mario Kart: Double Dash!!\" with total global sales of 8.48 million.\n",
      "- \"Final Fantasy: Crystal Chronicles\" and \"Mario Kart: Double Dash!!\" with total global sales of 8.44 million.\n",
      "- \"WarioWare, Inc.: Mega MicroGame$\" and \"Mario Kart: Double Dash!!\" with total global sales of 8.18 million.\n"
     ]
    }
   ],
   "source": [
    "print(response['result'])"
   ]
  },
  {
   "cell_type": "code",
   "execution_count": 10,
   "metadata": {},
   "outputs": [
    {
     "name": "stdout",
     "output_type": "stream",
     "text": [
      "\n",
      "\n",
      "\u001b[1m> Entering new GraphCypherQAChain chain...\u001b[0m\n",
      "Generated Cypher:\n",
      "\u001b[32;1m\u001b[1;3mcypher\n",
      "MATCH (g:Game)-[:PUBLISHED_BY]->(p:Publisher)\n",
      "WHERE g.year = 2008\n",
      "RETURN p.name AS Publisher, SUM(g.global_sales) AS TotalGlobalSales, COLLECT(g.name)[0..3] AS TopThreeGames\n",
      "ORDER BY TotalGlobalSales DESC\n",
      "LIMIT 1\n",
      "\u001b[0m\n",
      "Full Context:\n",
      "\u001b[32;1m\u001b[1;3m[{'Publisher': 'Nintendo', 'TotalGlobalSales': 91.22000000000004, 'TopThreeGames': ['Mario Kart Wii', 'Super Smash Bros. Brawl', 'Pokémon Platinum Version']}]\u001b[0m\n",
      "\n",
      "\u001b[1m> Finished chain.\u001b[0m\n"
     ]
    },
    {
     "data": {
      "text/plain": [
       "{'query': 'Find the most successful publisher in 2008 in terms of global sales and list their top three games',\n",
       " 'result': 'Nintendo was the most successful publisher in 2008 in terms of global sales. Their top three games were Mario Kart Wii, Super Smash Bros. Brawl, and Pokémon Platinum Version.'}"
      ]
     },
     "execution_count": 10,
     "metadata": {},
     "output_type": "execute_result"
    }
   ],
   "source": [
    "response = chain.invoke({\"query\": \"Find the most successful publisher in 2008 in terms of global sales and list their top three games\"})\n",
    "response"
   ]
  },
  {
   "cell_type": "code",
   "execution_count": 11,
   "metadata": {},
   "outputs": [
    {
     "name": "stdout",
     "output_type": "stream",
     "text": [
      "Nintendo was the most successful publisher in 2008 in terms of global sales. Their top three games were Mario Kart Wii, Super Smash Bros. Brawl, and Pokémon Platinum Version.\n"
     ]
    }
   ],
   "source": [
    "print(response['result'])"
   ]
  },
  {
   "cell_type": "code",
   "execution_count": 12,
   "metadata": {},
   "outputs": [
    {
     "name": "stdout",
     "output_type": "stream",
     "text": [
      "\n",
      "\n",
      "\u001b[1m> Entering new GraphCypherQAChain chain...\u001b[0m\n",
      "Generated Cypher:\n",
      "\u001b[32;1m\u001b[1;3mcypher\n",
      "MATCH (g:Game)-[:PUBLISHED_BY]->(p:Publisher)\n",
      "WHERE g.year = 2001\n",
      "WITH p, COUNT(g) AS games_count\n",
      "WHERE games_count >= 2\n",
      "MATCH (g2:Game)-[:PUBLISHED_BY]->(p)\n",
      "RETURN p.name AS Publisher, AVG(g2.global_sales) AS Average_Global_Sales\n",
      "ORDER BY Average_Global_Sales DESC\n",
      "\u001b[0m\n",
      "Full Context:\n",
      "\u001b[32;1m\u001b[1;3m[{'Publisher': 'Nintendo', 'Average_Global_Sales': 2.5096866096866064}, {'Publisher': 'Microsoft Game Studios', 'Average_Global_Sales': 1.3004761904761897}, {'Publisher': 'Enix Corporation', 'Average_Global_Sales': 1.1246666666666663}, {'Publisher': 'LucasArts', 'Average_Global_Sales': 0.9704444444444442}, {'Publisher': 'Take-Two Interactive', 'Average_Global_Sales': 0.9674092009685233}, {'Publisher': 'Sony Computer Entertainment', 'Average_Global_Sales': 0.889458272327965}, {'Publisher': 'Electronic Arts', 'Average_Global_Sales': 0.8218504811250932}, {'Publisher': 'Universal Interactive', 'Average_Global_Sales': 0.7726086956521738}, {'Publisher': 'Activision', 'Average_Global_Sales': 0.7461128205128197}, {'Publisher': 'Virgin Interactive', 'Average_Global_Sales': 0.7075806451612904}]\u001b[0m\n",
      "\n",
      "\u001b[1m> Finished chain.\u001b[0m\n"
     ]
    },
    {
     "data": {
      "text/plain": [
       "{'query': 'Determine the average sales of games by publishers who released at least two games in 2001 and compare these averages.',\n",
       " 'result': 'Nintendo leads the pack with an average global sales of 2.51 million units per game. Following Nintendo, Microsoft Game Studios has an average of 1.30 million units, and Enix Corporation averages 1.12 million units per game. Other notable publishers include LucasArts with an average of 0.97 million units, Take-Two Interactive at 0.97 million units, and Sony Computer Entertainment with 0.89 million units. Electronic Arts, Universal Interactive, Activision, and Virgin Interactive also show significant sales with averages of 0.82 million, 0.77 million, 0.75 million, and 0.71 million units respectively.'}"
      ]
     },
     "execution_count": 12,
     "metadata": {},
     "output_type": "execute_result"
    }
   ],
   "source": [
    "response = chain.invoke({\"query\": \"Determine the average sales of games by publishers who released at least two games in 2001 and compare these averages.\"})\n",
    "response"
   ]
  },
  {
   "cell_type": "code",
   "execution_count": 13,
   "metadata": {},
   "outputs": [
    {
     "name": "stdout",
     "output_type": "stream",
     "text": [
      "Nintendo leads the pack with an average global sales of 2.51 million units per game. Following Nintendo, Microsoft Game Studios has an average of 1.30 million units, and Enix Corporation averages 1.12 million units per game. Other notable publishers include LucasArts with an average of 0.97 million units, Take-Two Interactive at 0.97 million units, and Sony Computer Entertainment with 0.89 million units. Electronic Arts, Universal Interactive, Activision, and Virgin Interactive also show significant sales with averages of 0.82 million, 0.77 million, 0.75 million, and 0.71 million units respectively.\n"
     ]
    }
   ],
   "source": [
    "print(response['result'])"
   ]
  },
  {
   "cell_type": "code",
   "execution_count": 14,
   "metadata": {},
   "outputs": [
    {
     "name": "stdout",
     "output_type": "stream",
     "text": [
      "\n",
      "\n",
      "\u001b[1m> Entering new GraphCypherQAChain chain...\u001b[0m\n",
      "Generated Cypher:\n",
      "\u001b[32;1m\u001b[1;3mcypher\n",
      "MATCH (g2001:Game)-[:PUBLISHED_BY]->(p:Publisher)\n",
      "WHERE g2001.year = 2001\n",
      "WITH p, SUM(g2001.global_sales) AS total_sales_2001\n",
      "MATCH (g2002:Game)-[:PUBLISHED_BY]->(p)\n",
      "WHERE g2002.year = 2002\n",
      "RETURN p.name AS Publisher, total_sales_2001, SUM(g2002.global_sales) AS total_sales_2002\n",
      "\u001b[0m\n",
      "Full Context:\n",
      "\u001b[32;1m\u001b[1;3m[{'Publisher': 'Nintendo', 'total_sales_2001': 45.37000000000002, 'total_sales_2002': 48.30999999999999}, {'Publisher': 'Microsoft Game Studios', 'total_sales_2001': 13.490000000000002, 'total_sales_2002': 6.959999999999999}, {'Publisher': 'Take-Two Interactive', 'total_sales_2001': 20.429999999999996, 'total_sales_2002': 20.29}, {'Publisher': 'Sony Computer Entertainment', 'total_sales_2001': 43.29, 'total_sales_2002': 25.850000000000012}, {'Publisher': 'Activision', 'total_sales_2001': 18.590000000000003, 'total_sales_2002': 25.939999999999994}, {'Publisher': 'Ubisoft', 'total_sales_2001': 4.99, 'total_sales_2002': 16.21}, {'Publisher': 'Electronic Arts', 'total_sales_2001': 45.12000000000001, 'total_sales_2002': 73.01000000000002}, {'Publisher': 'Sega', 'total_sales_2001': 6.600000000000001, 'total_sales_2002': 12.299999999999999}, {'Publisher': 'SquareSoft', 'total_sales_2001': 0.25, 'total_sales_2002': 0.12000000000000001}, {'Publisher': 'Atari', 'total_sales_2001': 8.05, 'total_sales_2002': 21.250000000000004}]\u001b[0m\n",
      "\n",
      "\u001b[1m> Finished chain.\u001b[0m\n"
     ]
    },
    {
     "data": {
      "text/plain": [
       "{'query': 'Identify publishers who released games in both 2001 and 2002, and compare their total global sales for each year',\n",
       " 'result': 'Nintendo, Microsoft Game Studios, Take-To Interactive, Sony Computer Entertainment, Activision, Ubisoft, Electronic Arts, Sega, SquareSoft, and Atari all released games in both 2001 and 2002.\\n\\nHere is a comparison of their total global sales for each year:\\n- Nintendo: 45.37 million in 2001 and 48.31 million in 2002.\\n- Microsoft Game Studios: 13.49 million in 2001 and 6.96 million in 2002.\\n- Take-Two Interactive: 20.43 million in 2001 and 20.29 million in 2002.\\n- Sony Computer Entertainment: 43.29 million in 2001 and 25.85 million in 2002.\\n- Activision: 18.59 million in 2001 and 25.94 million in 2002.\\n- Ubisoft: 4.99 million in 2001 and 16.21 million in 2002.\\n- Electronic Arts: 45.12 million in 2001 and 73.01 million in 2002.\\n- Sega: 6.60 million in 2001 and 12.30 million in 2002.\\n- SquareSoft: 0.25 million in 2001 and 0.12 million in 2002.\\n- Atari: 8.05 million in 2001 and 21.25 million in 2002.'}"
      ]
     },
     "execution_count": 14,
     "metadata": {},
     "output_type": "execute_result"
    }
   ],
   "source": [
    "response = chain.invoke({\"query\": \"Identify publishers who released games in both 2001 and 2002, and compare their total global sales for each year\"})\n",
    "response"
   ]
  },
  {
   "cell_type": "code",
   "execution_count": 15,
   "metadata": {},
   "outputs": [
    {
     "name": "stdout",
     "output_type": "stream",
     "text": [
      "Nintendo, Microsoft Game Studios, Take-To Interactive, Sony Computer Entertainment, Activision, Ubisoft, Electronic Arts, Sega, SquareSoft, and Atari all released games in both 2001 and 2002.\n",
      "\n",
      "Here is a comparison of their total global sales for each year:\n",
      "- Nintendo: 45.37 million in 2001 and 48.31 million in 2002.\n",
      "- Microsoft Game Studios: 13.49 million in 2001 and 6.96 million in 2002.\n",
      "- Take-Two Interactive: 20.43 million in 2001 and 20.29 million in 2002.\n",
      "- Sony Computer Entertainment: 43.29 million in 2001 and 25.85 million in 2002.\n",
      "- Activision: 18.59 million in 2001 and 25.94 million in 2002.\n",
      "- Ubisoft: 4.99 million in 2001 and 16.21 million in 2002.\n",
      "- Electronic Arts: 45.12 million in 2001 and 73.01 million in 2002.\n",
      "- Sega: 6.60 million in 2001 and 12.30 million in 2002.\n",
      "- SquareSoft: 0.25 million in 2001 and 0.12 million in 2002.\n",
      "- Atari: 8.05 million in 2001 and 21.25 million in 2002.\n"
     ]
    }
   ],
   "source": [
    "print(response['result'])"
   ]
  },
  {
   "cell_type": "markdown",
   "metadata": {},
   "source": [
    "### Reference\n",
    "- video game sales: https://www.kaggle.com/datasets/gregorut/videogamesales\n",
    "- https://python.langchain.com/v0.2/docs/integrations/graphs/neo4j_cypher/"
   ]
  }
 ],
 "metadata": {
  "kernelspec": {
   "display_name": "Python 3",
   "language": "python",
   "name": "python3"
  },
  "language_info": {
   "codemirror_mode": {
    "name": "ipython",
    "version": 3
   },
   "file_extension": ".py",
   "mimetype": "text/x-python",
   "name": "python",
   "nbconvert_exporter": "python",
   "pygments_lexer": "ipython3",
   "version": "3.11.9"
  }
 },
 "nbformat": 4,
 "nbformat_minor": 2
}
