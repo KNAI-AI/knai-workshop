{
 "cells": [
  {
   "cell_type": "markdown",
   "id": "0151deab-ec4e-4738-b9b0-fec2424b2da3",
   "metadata": {},
   "source": [
    "# Querying Knowledge Graphs with Cypher"
   ]
  },
  {
   "cell_type": "markdown",
   "id": "74b00a43-df0b-4ead-8de6-2365e8a26f53",
   "metadata": {},
   "source": [
    "### Import packages and set up Neo4"
   ]
  },
  {
   "cell_type": "code",
   "execution_count": 1,
   "id": "bc780563-88e7-4c75-92c7-eb34def44a9f",
   "metadata": {
    "height": 149
   },
   "outputs": [],
   "source": [
    "import os\n",
    "from dotenv import load_dotenv\n",
    "import pandas as pd\n",
    "\n",
    "from langchain_community.graphs import Neo4jGraph\n",
    "\n",
    "_ = load_dotenv()"
   ]
  },
  {
   "cell_type": "markdown",
   "id": "089b045d",
   "metadata": {},
   "source": [
    "### Setting Environment Variables"
   ]
  },
  {
   "cell_type": "code",
   "execution_count": 2,
   "id": "186948fd-da5e-49d5-abf4-ad21aed3271f",
   "metadata": {
    "height": 98
   },
   "outputs": [],
   "source": [
    "os.environ[\"NEO4J_USERNAME\"] = os.getenv(\"NEO4J_USERNAME\")\n",
    "os.environ[\"NEO4J_PASSWORD\"] = os.getenv(\"NEO4J_PASSWORD\")\n",
    "os.environ[\"NEO4J_URI\"] = os.getenv(\"NEO4J_URI\")"
   ]
  },
  {
   "cell_type": "code",
   "execution_count": 3,
   "id": "a5c03340-9078-42b2-9e0a-2dc8495b818f",
   "metadata": {
    "height": 64
   },
   "outputs": [],
   "source": [
    "kg = Neo4jGraph()"
   ]
  },
  {
   "cell_type": "code",
   "execution_count": 4,
   "id": "79937959",
   "metadata": {},
   "outputs": [
    {
     "name": "stdout",
     "output_type": "stream",
     "text": [
      "Node properties:\n",
      "Game {rank: INTEGER, name: STRING, platform: STRING, year: INTEGER, genre: STRING, publisher: STRING, na_sales: FLOAT, eu_sales: FLOAT, jp_sales: FLOAT, other_sales: FLOAT, global_sales: FLOAT}\n",
      "Platform {name: STRING}\n",
      "Publisher {name: STRING}\n",
      "Genre {name: STRING}\n",
      "Relationship properties:\n",
      "\n",
      "The relationships:\n",
      "(:Game)-[:RELEASED_ON]->(:Platform)\n",
      "(:Game)-[:PUBLISHED_BY]->(:Publisher)\n",
      "(:Game)-[:BELONGS_TO_GENRE]->(:Genre)\n"
     ]
    }
   ],
   "source": [
    "kg.refresh_schema()\n",
    "print(kg.schema)"
   ]
  },
  {
   "cell_type": "markdown",
   "id": "963301f2",
   "metadata": {},
   "source": [
    "### Examples to show why Knowledge Graphs over SQL"
   ]
  },
  {
   "cell_type": "markdown",
   "id": "20b3b2c8",
   "metadata": {},
   "source": [
    "**Example of Schema Flexibility**"
   ]
  },
  {
   "cell_type": "markdown",
   "id": "d07a498c",
   "metadata": {},
   "source": [
    "Before"
   ]
  },
  {
   "cell_type": "code",
   "execution_count": 6,
   "id": "8bb417ae",
   "metadata": {},
   "outputs": [
    {
     "data": {
      "text/plain": [
       "[]"
      ]
     },
     "execution_count": 6,
     "metadata": {},
     "output_type": "execute_result"
    }
   ],
   "source": [
    "cypher = \"\"\"\n",
    "MATCH (game:Game {name:\"Hades\"})\n",
    "RETURN game\n",
    "\"\"\"\n",
    "\n",
    "kg.query(cypher)"
   ]
  },
  {
   "cell_type": "code",
   "execution_count": 7,
   "id": "ed1665da-b9ec-4b81-9e1f-de19af49d0d8",
   "metadata": {
    "height": 115
   },
   "outputs": [
    {
     "data": {
      "text/plain": [
       "[{'game': {'name': 'Hades'}}]"
      ]
     },
     "execution_count": 7,
     "metadata": {},
     "output_type": "execute_result"
    }
   ],
   "source": [
    "cypher = \"\"\"\n",
    "CREATE (game:Game {name:\"Hades\"})\n",
    "RETURN game\n",
    "\"\"\"\n",
    "\n",
    "kg.query(cypher)"
   ]
  },
  {
   "cell_type": "markdown",
   "id": "2b4edad2",
   "metadata": {},
   "source": [
    "After"
   ]
  },
  {
   "cell_type": "code",
   "execution_count": 8,
   "id": "6f01f1d4",
   "metadata": {},
   "outputs": [
    {
     "data": {
      "text/plain": [
       "[{'game': {'name': 'Hades'}}]"
      ]
     },
     "execution_count": 8,
     "metadata": {},
     "output_type": "execute_result"
    }
   ],
   "source": [
    "cypher = \"\"\"\n",
    "MATCH (game:Game {name:\"Hades\"})\n",
    "RETURN game\n",
    "\"\"\"\n",
    "\n",
    "kg.query(cypher)"
   ]
  },
  {
   "cell_type": "markdown",
   "id": "fd903323",
   "metadata": {},
   "source": [
    "Before giving it new properties, we will formulate relationship."
   ]
  },
  {
   "cell_type": "code",
   "execution_count": 9,
   "id": "1a0b9bb9-4491-45e2-9a4d-2306ea0a2bd8",
   "metadata": {
    "height": 115
   },
   "outputs": [
    {
     "data": {
      "text/plain": [
       "[{'hades': {'name': 'Hades'},\n",
       "  'hasRelationship': ({'name': 'Hades'},\n",
       "   'BELONGS_TO_GENRE',\n",
       "   {'name': 'Role-Playing'}),\n",
       "  'rolePlaying': {'name': 'Role-Playing'}}]"
      ]
     },
     "execution_count": 9,
     "metadata": {},
     "output_type": "execute_result"
    }
   ],
   "source": [
    "cypher = \"\"\"\n",
    "MATCH (hades:Game {name:\"Hades\"}), (rolePlaying:Genre {name:\"Role-Playing\"})\n",
    "MERGE (hades)-[hasRelationship:BELONGS_TO_GENRE]->(rolePlaying)\n",
    "RETURN hades, hasRelationship, rolePlaying\n",
    "\"\"\"\n",
    "kg.query(cypher)"
   ]
  },
  {
   "cell_type": "code",
   "execution_count": 10,
   "id": "c81eab39",
   "metadata": {},
   "outputs": [
    {
     "data": {
      "text/plain": [
       "[]"
      ]
     },
     "execution_count": 10,
     "metadata": {},
     "output_type": "execute_result"
    }
   ],
   "source": [
    "cypher = \"\"\"\n",
    "MATCH (n:Game {name:\"Hades\"})\n",
    "SET n.release_year = 2020,\n",
    "    n.genre = \"Role-Playing\",\n",
    "    n.developer = \"Supergiant Games\"\n",
    "\"\"\"\n",
    "kg.query(cypher)"
   ]
  },
  {
   "cell_type": "markdown",
   "id": "c5176e25",
   "metadata": {},
   "source": [
    "**Example of Query Simplicity and Readability**"
   ]
  },
  {
   "cell_type": "markdown",
   "id": "652aa57f",
   "metadata": {},
   "source": [
    "Graph Example"
   ]
  },
  {
   "cell_type": "code",
   "execution_count": 11,
   "id": "72992825",
   "metadata": {},
   "outputs": [
    {
     "data": {
      "text/plain": [
       "[{'genre.name': 'Platform', 'TotalSales': 427.21},\n",
       " {'genre.name': 'Role-Playing', 'TotalSales': 284.9},\n",
       " {'genre.name': 'Sports', 'TotalSales': 218.00999999999993},\n",
       " {'genre.name': 'Misc', 'TotalSales': 180.66999999999996},\n",
       " {'genre.name': 'Racing', 'TotalSales': 151.29999999999995},\n",
       " {'genre.name': 'Action', 'TotalSales': 128.17999999999995},\n",
       " {'genre.name': 'Puzzle', 'TotalSales': 124.88000000000002},\n",
       " {'genre.name': 'Shooter', 'TotalSales': 69.72999999999999},\n",
       " {'genre.name': 'Simulation', 'TotalSales': 60.510000000000005},\n",
       " {'genre.name': 'Fighting', 'TotalSales': 53.35000000000001},\n",
       " {'genre.name': 'Adventure', 'TotalSales': 35.709999999999994},\n",
       " {'genre.name': 'Strategy', 'TotalSales': 27.349999999999998}]"
      ]
     },
     "execution_count": 11,
     "metadata": {},
     "output_type": "execute_result"
    }
   ],
   "source": [
    "cypher = \"\"\"\n",
    "MATCH (g:Game)-[:BELONGS_TO_GENRE]->(genre:Genre), \n",
    "      (g)-[:PUBLISHED_BY]->(publisher:Publisher)\n",
    "WHERE publisher.name = 'Nintendo'\n",
    "RETURN genre.name, SUM(g.global_sales) AS TotalSales\n",
    "ORDER BY TotalSales DESC\n",
    "\"\"\"\n",
    "kg.query(cypher)"
   ]
  },
  {
   "cell_type": "markdown",
   "id": "e32589e8",
   "metadata": {},
   "source": [
    "SQL Example"
   ]
  },
  {
   "cell_type": "code",
   "execution_count": null,
   "id": "dc9cd1b2",
   "metadata": {},
   "outputs": [],
   "source": [
    "\"\"\"SELECT genre.name, SUM(g.global_sales) AS TotalSales\n",
    "FROM games g\n",
    "JOIN genres genre ON g.genre_id = genre.id\n",
    "JOIN publishers publisher ON g.publisher_id = publisher.id\n",
    "WHERE publisher.name = 'Nintendo'\n",
    "GROUP BY genre.name\n",
    "ORDER BY TotalSales DESC;\"\"\""
   ]
  },
  {
   "cell_type": "markdown",
   "id": "8c7d8fba",
   "metadata": {},
   "source": [
    "Display relationship between all nodes"
   ]
  },
  {
   "cell_type": "code",
   "execution_count": null,
   "id": "231473e6",
   "metadata": {},
   "outputs": [],
   "source": [
    "# MATCH p=()-[]->() RETURN p; Run in cypher shell"
   ]
  }
 ],
 "metadata": {
  "kernelspec": {
   "display_name": "Python 3 (ipykernel)",
   "language": "python",
   "name": "python3"
  },
  "language_info": {
   "codemirror_mode": {
    "name": "ipython",
    "version": 3
   },
   "file_extension": ".py",
   "mimetype": "text/x-python",
   "name": "python",
   "nbconvert_exporter": "python",
   "pygments_lexer": "ipython3",
   "version": "3.11.9"
  }
 },
 "nbformat": 4,
 "nbformat_minor": 5
}
