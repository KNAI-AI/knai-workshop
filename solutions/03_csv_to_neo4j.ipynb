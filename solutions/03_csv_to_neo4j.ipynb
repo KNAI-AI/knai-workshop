{
 "cells": [
  {
   "cell_type": "markdown",
   "metadata": {},
   "source": [
    "### Importing Necessary Libraries"
   ]
  },
  {
   "cell_type": "code",
   "execution_count": 1,
   "metadata": {},
   "outputs": [],
   "source": [
    "import os\n",
    "from dotenv import load_dotenv\n",
    "import pandas as pd\n",
    "\n",
    "from langchain_openai import ChatOpenAI\n",
    "from langchain.chains import GraphCypherQAChain\n",
    "from langchain_community.graphs import Neo4jGraph\n",
    "from langchain_community.chat_models import ChatOllama\n",
    "\n",
    "_ = load_dotenv()"
   ]
  },
  {
   "cell_type": "markdown",
   "metadata": {},
   "source": [
    "### Setting Environment Variables"
   ]
  },
  {
   "cell_type": "code",
   "execution_count": 2,
   "metadata": {},
   "outputs": [],
   "source": [
    "os.environ[\"NEO4J_USERNAME\"] = os.getenv(\"NEO4J_USERNAME\")\n",
    "os.environ[\"NEO4J_PASSWORD\"] = os.getenv(\"NEO4J_PASSWORD\")\n",
    "os.environ[\"NEO4J_URI\"] = os.getenv(\"NEO4J_URI\")"
   ]
  },
  {
   "cell_type": "markdown",
   "metadata": {},
   "source": [
    "### Initializing GraphCypherQAChain"
   ]
  },
  {
   "cell_type": "code",
   "execution_count": 3,
   "metadata": {},
   "outputs": [],
   "source": [
    "graph = Neo4jGraph()\n",
    "cypher_llm = ChatOpenAI(model=\"gpt-4-turbo\")\n",
    "qa_llm = ChatOpenAI(model=\"gpt-4-turbo\")\n",
    "chain = GraphCypherQAChain.from_llm(graph=graph, llm=cypher_llm, verbose=True, validate_cypher=True)"
   ]
  },
  {
   "cell_type": "markdown",
   "metadata": {},
   "source": [
    "### Example Queries"
   ]
  },
  {
   "cell_type": "code",
   "execution_count": 4,
   "metadata": {},
   "outputs": [
    {
     "name": "stdout",
     "output_type": "stream",
     "text": [
      "\n",
      "\n",
      "\u001b[1m> Entering new GraphCypherQAChain chain...\u001b[0m\n",
      "Generated Cypher:\n",
      "\u001b[32;1m\u001b[1;3mcypher\n",
      "MATCH (g1:Game)-[:PUBLISHED_BY]->(p:Publisher)<-[:PUBLISHED_BY]-(g2:Game)\n",
      "WHERE g1.year = 2003 AND g2.year = 2003 AND g1.name <> g2.name\n",
      "RETURN g1.name AS Game1, g2.name AS Game2, p.name AS Publisher\n",
      "\u001b[0m\n",
      "Full Context:\n",
      "\u001b[32;1m\u001b[1;3m[{'Game1': 'Super Mario Bros. 3', 'Game2': 'Mario Kart: Double Dash!!', 'Publisher': 'Nintendo'}, {'Game1': 'Pokémon Colosseum', 'Game2': 'Mario Kart: Double Dash!!', 'Publisher': 'Nintendo'}, {'Game1': 'Mario & Luigi: Superstar Saga', 'Game2': 'Mario Kart: Double Dash!!', 'Publisher': 'Nintendo'}, {'Game1': 'Mario Party 5', 'Game2': 'Mario Kart: Double Dash!!', 'Publisher': 'Nintendo'}, {'Game1': 'Donkey Kong Country', 'Game2': 'Mario Kart: Double Dash!!', 'Publisher': 'Nintendo'}, {'Game1': 'Kirby Air Ride', 'Game2': 'Mario Kart: Double Dash!!', 'Publisher': 'Nintendo'}, {'Game1': 'Pokemon Pinball: Ruby & Sapphire', 'Game2': 'Mario Kart: Double Dash!!', 'Publisher': 'Nintendo'}, {'Game1': 'Mario Golf: Toadstool Tour', 'Game2': 'Mario Kart: Double Dash!!', 'Publisher': 'Nintendo'}, {'Game1': 'Final Fantasy: Crystal Chronicles', 'Game2': 'Mario Kart: Double Dash!!', 'Publisher': 'Nintendo'}, {'Game1': 'WarioWare, Inc.: Mega MicroGame$', 'Game2': 'Mario Kart: Double Dash!!', 'Publisher': 'Nintendo'}]\u001b[0m\n",
      "\n",
      "\u001b[1m> Finished chain.\u001b[0m\n"
     ]
    },
    {
     "data": {
      "text/plain": [
       "{'query': 'Which games have same publisher in the year 2003?',\n",
       " 'result': 'The games that have the same publisher in the year 2003 are Super Mario Bros. 3, Pokémon Colosseum, Mario & Luigi: Superstar Saga, Mario Party 5, Donkey Kong Country, Kirby Air Ride, Pokemon Pinball: Ruby & Sapphire, Mario Golf: Toadstool Tour, Final Fantasy: Crystal Chronicles, and WarioWare, Inc.: Mega MicroGame$, all published by Nintendo.'}"
      ]
     },
     "execution_count": 4,
     "metadata": {},
     "output_type": "execute_result"
    }
   ],
   "source": [
    "response = chain.invoke({\"query\": \"Which games have same publisher in the year 2003?\"})\n",
    "response"
   ]
  },
  {
   "cell_type": "code",
   "execution_count": 5,
   "metadata": {},
   "outputs": [
    {
     "name": "stdout",
     "output_type": "stream",
     "text": [
      "The games that have the same publisher in the year 2003 are Super Mario Bros. 3, Pokémon Colosseum, Mario & Luigi: Superstar Saga, Mario Party 5, Donkey Kong Country, Kirby Air Ride, Pokemon Pinball: Ruby & Sapphire, Mario Golf: Toadstool Tour, Final Fantasy: Crystal Chronicles, and WarioWare, Inc.: Mega MicroGame$, all published by Nintendo.\n"
     ]
    }
   ],
   "source": [
    "print(response['result'])"
   ]
  },
  {
   "cell_type": "code",
   "execution_count": 6,
   "metadata": {},
   "outputs": [
    {
     "name": "stdout",
     "output_type": "stream",
     "text": [
      "\n",
      "\n",
      "\u001b[1m> Entering new GraphCypherQAChain chain...\u001b[0m\n",
      "Generated Cypher:\n",
      "\u001b[32;1m\u001b[1;3mcypher\n",
      "MATCH (g1:Game)-[:PUBLISHED_BY]->(p:Publisher)<-[:PUBLISHED_BY]-(g2:Game)\n",
      "WHERE g1.year = 2003 AND g2.year = 2003 AND g1 <> g2\n",
      "RETURN g1.name AS Game1, g2.name AS Game2, p.name AS Publisher, g1.global_sales + g2.global_sales AS TotalGlobalSales\n",
      "\u001b[0m\n",
      "Full Context:\n",
      "\u001b[32;1m\u001b[1;3m[{'Game1': 'Super Mario Bros. 3', 'Game2': 'Mario Kart: Double Dash!!', 'Publisher': 'Nintendo', 'TotalGlobalSales': 12.15}, {'Game1': 'Pokémon Colosseum', 'Game2': 'Mario Kart: Double Dash!!', 'Publisher': 'Nintendo', 'TotalGlobalSales': 9.49}, {'Game1': 'Mario & Luigi: Superstar Saga', 'Game2': 'Mario Kart: Double Dash!!', 'Publisher': 'Nintendo', 'TotalGlobalSales': 9.120000000000001}, {'Game1': 'Mario Party 5', 'Game2': 'Mario Kart: Double Dash!!', 'Publisher': 'Nintendo', 'TotalGlobalSales': 9.030000000000001}, {'Game1': 'Donkey Kong Country', 'Game2': 'Mario Kart: Double Dash!!', 'Publisher': 'Nintendo', 'TotalGlobalSales': 8.99}, {'Game1': 'Kirby Air Ride', 'Game2': 'Mario Kart: Double Dash!!', 'Publisher': 'Nintendo', 'TotalGlobalSales': 8.57}, {'Game1': 'Pokemon Pinball: Ruby & Sapphire', 'Game2': 'Mario Kart: Double Dash!!', 'Publisher': 'Nintendo', 'TotalGlobalSales': 8.51}, {'Game1': 'Mario Golf: Toadstool Tour', 'Game2': 'Mario Kart: Double Dash!!', 'Publisher': 'Nintendo', 'TotalGlobalSales': 8.48}, {'Game1': 'Final Fantasy: Crystal Chronicles', 'Game2': 'Mario Kart: Double Dash!!', 'Publisher': 'Nintendo', 'TotalGlobalSales': 8.44}, {'Game1': 'WarioWare, Inc.: Mega MicroGame$', 'Game2': 'Mario Kart: Double Dash!!', 'Publisher': 'Nintendo', 'TotalGlobalSales': 8.18}]\u001b[0m\n",
      "\n",
      "\u001b[1m> Finished chain.\u001b[0m\n"
     ]
    },
    {
     "data": {
      "text/plain": [
       "{'query': 'Find pairs of games published by the same publisher in the year 2003 and their total combined global sales.',\n",
       " 'result': 'The pairs of games published by Nintendo in 2003 along with their total combined global sales are as follows:\\n- \"Super Mario Bros. 3\" and \"Mario Kart: Double Dash!!\" with a total of 12.15 million in global sales.\\n- \"Pokémon Colosseum\" and \"Mario Kart: Double Dash!!\" with a total of 9.49 million in global sales.\\n- \"Mario & Luigi: Superstar Saga\" and \"Mario Kart: Double Dash!!\" with a total of 9.12 million in global sales.\\n- \"Mario Party 5\" and \"Mario Kart: Double Dash!!\" with a total of 9.03 million in global sales.\\n- \"Donkey Kong Country\" and \"Mario Kart: Double Dash!!\" with a total of 8.99 million in global sales.\\n- \"Kirby Air Ride\" and \"Mario Kart: Double Dash!!\" with a total of 8.57 million in global sales.\\n- \"Pokemon Pinball: Ruby & Sapphire\" and \"Mario Kart: Double Dash!!\" with a total of 8.51 million in global sales.\\n- \"Mario Golf: Toadstool Tour\" and \"Mario Kart: Double Dash!!\" with a total of 8.48 million in global sales.\\n- \"Final Fantasy: Crystal Chronicles\" and \"Mario Kart: Double Dash!!\" with a total of 8.44 million in global sales.\\n- \"WarioWare, Inc.: Mega MicroGame$\" and \"Mario Kart: Double Dash!!\" with a total of 8.18 million in global sales.'}"
      ]
     },
     "execution_count": 6,
     "metadata": {},
     "output_type": "execute_result"
    }
   ],
   "source": [
    "response = chain.invoke({\"query\": \"Find pairs of games published by the same publisher in the year 2003 and their total combined global sales.\"})\n",
    "response"
   ]
  },
  {
   "cell_type": "code",
   "execution_count": 7,
   "metadata": {},
   "outputs": [
    {
     "name": "stdout",
     "output_type": "stream",
     "text": [
      "The pairs of games published by Nintendo in 2003 along with their total combined global sales are as follows:\n",
      "- \"Super Mario Bros. 3\" and \"Mario Kart: Double Dash!!\" with a total of 12.15 million in global sales.\n",
      "- \"Pokémon Colosseum\" and \"Mario Kart: Double Dash!!\" with a total of 9.49 million in global sales.\n",
      "- \"Mario & Luigi: Superstar Saga\" and \"Mario Kart: Double Dash!!\" with a total of 9.12 million in global sales.\n",
      "- \"Mario Party 5\" and \"Mario Kart: Double Dash!!\" with a total of 9.03 million in global sales.\n",
      "- \"Donkey Kong Country\" and \"Mario Kart: Double Dash!!\" with a total of 8.99 million in global sales.\n",
      "- \"Kirby Air Ride\" and \"Mario Kart: Double Dash!!\" with a total of 8.57 million in global sales.\n",
      "- \"Pokemon Pinball: Ruby & Sapphire\" and \"Mario Kart: Double Dash!!\" with a total of 8.51 million in global sales.\n",
      "- \"Mario Golf: Toadstool Tour\" and \"Mario Kart: Double Dash!!\" with a total of 8.48 million in global sales.\n",
      "- \"Final Fantasy: Crystal Chronicles\" and \"Mario Kart: Double Dash!!\" with a total of 8.44 million in global sales.\n",
      "- \"WarioWare, Inc.: Mega MicroGame$\" and \"Mario Kart: Double Dash!!\" with a total of 8.18 million in global sales.\n"
     ]
    }
   ],
   "source": [
    "print(response['result'])"
   ]
  },
  {
   "cell_type": "code",
   "execution_count": 11,
   "metadata": {},
   "outputs": [
    {
     "name": "stdout",
     "output_type": "stream",
     "text": [
      "\n",
      "\n",
      "\u001b[1m> Entering new GraphCypherQAChain chain...\u001b[0m\n",
      "Generated Cypher:\n",
      "\u001b[32;1m\u001b[1;3mcypher\n",
      "MATCH (g:Game)-[:PUBLISHED_BY]->(p:Publisher)\n",
      "WHERE g.year = 2008\n",
      "RETURN p.name AS Publisher, SUM(g.global_sales) AS TotalGlobalSales, COLLECT(g.name)[0..3] AS TopThreeGames\n",
      "ORDER BY TotalGlobalSales DESC\n",
      "LIMIT 1;\n",
      "\u001b[0m\n",
      "Full Context:\n",
      "\u001b[32;1m\u001b[1;3m[{'Publisher': 'Nintendo', 'TotalGlobalSales': 91.22000000000004, 'TopThreeGames': ['Mario Kart Wii', 'Super Smash Bros. Brawl', 'Pokémon Platinum Version']}]\u001b[0m\n",
      "\n",
      "\u001b[1m> Finished chain.\u001b[0m\n"
     ]
    },
    {
     "data": {
      "text/plain": [
       "{'query': 'Find the most successful publisher in 2008 in terms of global sales and list their top three games',\n",
       " 'result': 'Nintendo was the most successful publisher in 2008 in terms of global sales. Their top three games were Mario Kart Wii, Super Smash Bros. Brawl, and Pokémon Platinum Version.'}"
      ]
     },
     "execution_count": 11,
     "metadata": {},
     "output_type": "execute_result"
    }
   ],
   "source": [
    "response = chain.invoke({\"query\": \"Find the most successful publisher in 2008 in terms of global sales and list their top three games\"})\n",
    "response"
   ]
  },
  {
   "cell_type": "code",
   "execution_count": 12,
   "metadata": {},
   "outputs": [
    {
     "name": "stdout",
     "output_type": "stream",
     "text": [
      "Nintendo was the most successful publisher in 2008 in terms of global sales. Their top three games were Mario Kart Wii, Super Smash Bros. Brawl, and Pokémon Platinum Version.\n"
     ]
    }
   ],
   "source": [
    "print(response['result'])"
   ]
  },
  {
   "cell_type": "code",
   "execution_count": 13,
   "metadata": {},
   "outputs": [
    {
     "name": "stdout",
     "output_type": "stream",
     "text": [
      "\n",
      "\n",
      "\u001b[1m> Entering new GraphCypherQAChain chain...\u001b[0m\n",
      "Generated Cypher:\n",
      "\u001b[32;1m\u001b[1;3mcypher\n",
      "MATCH (g:Game)-[:PUBLISHED_BY]->(p:Publisher)\n",
      "WHERE g.year = 2001\n",
      "WITH p, COUNT(g) AS games_count\n",
      "WHERE games_count >= 2\n",
      "MATCH (g2:Game)-[:PUBLISHED_BY]->(p)\n",
      "RETURN p.name AS Publisher, AVG(g2.global_sales) AS Average_Global_Sales\n",
      "ORDER BY Average_Global_Sales DESC\n",
      "\u001b[0m\n",
      "Full Context:\n",
      "\u001b[32;1m\u001b[1;3m[{'Publisher': 'Nintendo', 'Average_Global_Sales': 2.5096866096866064}, {'Publisher': 'Microsoft Game Studios', 'Average_Global_Sales': 1.3004761904761897}, {'Publisher': 'Enix Corporation', 'Average_Global_Sales': 1.1246666666666663}, {'Publisher': 'LucasArts', 'Average_Global_Sales': 0.9704444444444442}, {'Publisher': 'Take-Two Interactive', 'Average_Global_Sales': 0.9674092009685233}, {'Publisher': 'Sony Computer Entertainment', 'Average_Global_Sales': 0.889458272327965}, {'Publisher': 'Electronic Arts', 'Average_Global_Sales': 0.8218504811250932}, {'Publisher': 'Universal Interactive', 'Average_Global_Sales': 0.7726086956521738}, {'Publisher': 'Activision', 'Average_Global_Sales': 0.7461128205128197}, {'Publisher': 'Virgin Interactive', 'Average_Global_Sales': 0.7075806451612904}]\u001b[0m\n",
      "\n",
      "\u001b[1m> Finished chain.\u001b[0m\n"
     ]
    },
    {
     "data": {
      "text/plain": [
       "{'query': 'Determine the average sales of games by publishers who released at least two games in 2001 and compare these averages.',\n",
       " 'result': \"Nintendo leads with an average of approximately 2.51 million global sales per game. Microsoft Game Studios follows with about 1.30 million, while Enix Corporation holds an average of 1.12 million. LucasArts and Take-Two Interactive are close, with averages of 0.97 million and 0.97 million respectively. Sony Computer Entertainment's average stands at 0.89 million, Electronic Arts at 0.82 million, Universal Interactive at 0.77 million, Activision at 0.75 million, and Virgin Interactive rounds out the list with an average of 0.71 million global sales per game.\"}"
      ]
     },
     "execution_count": 13,
     "metadata": {},
     "output_type": "execute_result"
    }
   ],
   "source": [
    "response = chain.invoke({\"query\": \"Determine the average sales of games by publishers who released at least two games in 2001 and compare these averages.\"})\n",
    "response"
   ]
  },
  {
   "cell_type": "code",
   "execution_count": 14,
   "metadata": {},
   "outputs": [
    {
     "name": "stdout",
     "output_type": "stream",
     "text": [
      "Nintendo leads with an average of approximately 2.51 million global sales per game. Microsoft Game Studios follows with about 1.30 million, while Enix Corporation holds an average of 1.12 million. LucasArts and Take-Two Interactive are close, with averages of 0.97 million and 0.97 million respectively. Sony Computer Entertainment's average stands at 0.89 million, Electronic Arts at 0.82 million, Universal Interactive at 0.77 million, Activision at 0.75 million, and Virgin Interactive rounds out the list with an average of 0.71 million global sales per game.\n"
     ]
    }
   ],
   "source": [
    "print(response['result'])"
   ]
  },
  {
   "cell_type": "code",
   "execution_count": 15,
   "metadata": {},
   "outputs": [
    {
     "name": "stdout",
     "output_type": "stream",
     "text": [
      "\n",
      "\n",
      "\u001b[1m> Entering new GraphCypherQAChain chain...\u001b[0m\n",
      "Generated Cypher:\n",
      "\u001b[32;1m\u001b[1;3mcypher\n",
      "MATCH (g2001:Game)-[:PUBLISHED_BY]->(p:Publisher)\n",
      "WHERE g2001.year = 2001\n",
      "WITH p, SUM(g2001.global_sales) AS sales2001\n",
      "MATCH (g2002:Game)-[:PUBLISHED_BY]->(p)\n",
      "WHERE g2002.year = 2002\n",
      "RETURN p.name AS Publisher, sales2001, SUM(g2002.global_sales) AS sales2002\n",
      "\u001b[0m\n",
      "Full Context:\n",
      "\u001b[32;1m\u001b[1;3m[{'Publisher': 'Nintendo', 'sales2001': 45.37000000000002, 'sales2002': 48.30999999999999}, {'Publisher': 'Microsoft Game Studios', 'sales2001': 13.490000000000002, 'sales2002': 6.959999999999999}, {'Publisher': 'Take-Two Interactive', 'sales2001': 20.429999999999996, 'sales2002': 20.29}, {'Publisher': 'Sony Computer Entertainment', 'sales2001': 43.29, 'sales2002': 25.850000000000012}, {'Publisher': 'Activision', 'sales2001': 18.590000000000003, 'sales2002': 25.939999999999994}, {'Publisher': 'Ubisoft', 'sales2001': 4.99, 'sales2002': 16.21}, {'Publisher': 'Electronic Arts', 'sales2001': 45.12000000000001, 'sales2002': 73.01000000000002}, {'Publisher': 'Sega', 'sales2001': 6.600000000000001, 'sales2002': 12.299999999999999}, {'Publisher': 'SquareSoft', 'sales2001': 0.25, 'sales2002': 0.12000000000000001}, {'Publisher': 'Atari', 'sales2001': 8.05, 'sales2002': 21.250000000000004}]\u001b[0m\n",
      "\n",
      "\u001b[1m> Finished chain.\u001b[0m\n"
     ]
    },
    {
     "data": {
      "text/plain": [
       "{'query': 'Identify publishers who released games in both 2001 and 2002, and compare their total global sales for each year',\n",
       " 'result': \"In 2001 and 2002, several publishers released games and had varying sales figures. Nintendo had sales of 45.37 million in 2001 and 48.31 million in 2002. Microsoft Game Studios reported sales of 13.49 million in 2001 and 6.96 million in 2002. Take-Two Interactive had nearly consistent sales with 20.43 million in 2001 and 20.29 million in 2002. Sony Computer Entertainment saw a decrease from 43.29 million in 2001 to 25.85 million in 2002. Activision's sales rose from 18.59 million in 2001 to 25.94 million in 2002. Ubisoft significantly increased their sales from 4.99 million in 2001 to 16.21 million in 2002. Electronic Arts had a notable increase in sales from 45.12 million in 2001 to 73.01 million in 2002. Sega's sales also increased from 6.6 million in 2001 to 12.3 million in 2002. SquareSoft had a decrease in sales, with 0.25 million in 2001 and 0.12 million in 2002. Atari saw a significant increase from 8.05 million in 2001 to 21.25 million in 2002. These figures reflect how each publisher's market performance evolved between these two years.\"}"
      ]
     },
     "execution_count": 15,
     "metadata": {},
     "output_type": "execute_result"
    }
   ],
   "source": [
    "response = chain.invoke({\"query\": \"Identify publishers who released games in both 2001 and 2002, and compare their total global sales for each year\"})\n",
    "response"
   ]
  },
  {
   "cell_type": "code",
   "execution_count": 16,
   "metadata": {},
   "outputs": [
    {
     "name": "stdout",
     "output_type": "stream",
     "text": [
      "In 2001 and 2002, several publishers released games and had varying sales figures. Nintendo had sales of 45.37 million in 2001 and 48.31 million in 2002. Microsoft Game Studios reported sales of 13.49 million in 2001 and 6.96 million in 2002. Take-Two Interactive had nearly consistent sales with 20.43 million in 2001 and 20.29 million in 2002. Sony Computer Entertainment saw a decrease from 43.29 million in 2001 to 25.85 million in 2002. Activision's sales rose from 18.59 million in 2001 to 25.94 million in 2002. Ubisoft significantly increased their sales from 4.99 million in 2001 to 16.21 million in 2002. Electronic Arts had a notable increase in sales from 45.12 million in 2001 to 73.01 million in 2002. Sega's sales also increased from 6.6 million in 2001 to 12.3 million in 2002. SquareSoft had a decrease in sales, with 0.25 million in 2001 and 0.12 million in 2002. Atari saw a significant increase from 8.05 million in 2001 to 21.25 million in 2002. These figures reflect how each publisher's market performance evolved between these two years.\n"
     ]
    }
   ],
   "source": [
    "print(response['result'])"
   ]
  },
  {
   "cell_type": "markdown",
   "metadata": {},
   "source": [
    "### Reference\n",
    "- video game sales dataset: https://www.kaggle.com/datasets/gregorut/videogamesales\n",
    "- Neo4j + Langchain: https://python.langchain.com/v0.2/docs/integrations/graphs/neo4j_cypher/"
   ]
  }
 ],
 "metadata": {
  "kernelspec": {
   "display_name": "Python 3",
   "language": "python",
   "name": "python3"
  },
  "language_info": {
   "codemirror_mode": {
    "name": "ipython",
    "version": 3
   },
   "file_extension": ".py",
   "mimetype": "text/x-python",
   "name": "python",
   "nbconvert_exporter": "python",
   "pygments_lexer": "ipython3",
   "version": "3.11.9"
  }
 },
 "nbformat": 4,
 "nbformat_minor": 2
}
